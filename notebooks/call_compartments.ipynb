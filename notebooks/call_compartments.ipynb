{
 "cells": [
  {
   "cell_type": "code",
   "execution_count": 1,
   "metadata": {},
   "outputs": [],
   "source": [
    "# import required modules \n",
    "import pandas as pd\n",
    "import numpy as np\n",
    "import matplotlib.pyplot as plt\n",
    "\n",
    "import cooltools\n",
    "import bioframe\n",
    "import cooler\n",
    "\n",
    "from cooltools import eigdecomp\n",
    "import HMMC\n",
    "from pybedtools import BedTool\n"
   ]
  },
  {
   "cell_type": "code",
   "execution_count": 53,
   "metadata": {},
   "outputs": [],
   "source": [
    "assembly = 'hg19'"
   ]
  },
  {
   "cell_type": "code",
   "execution_count": 54,
   "metadata": {},
   "outputs": [],
   "source": [
    "# todo: update this with storage location\n",
    "# specify cooler and fasta storage locations\n",
    "# cooler_file = '/pollard/data/wynton/consortia/4DN/rao2014/GM12878/4DNFIXP4QG5B.mcool'\n",
    "# cooler_file = '/pollard/data/wynton/consortia/4DN/krietenstein2020/H1-hESC/4DNFI9GMP2J8.mcool'\n",
    "# cooler_file = '/pollard/data/wynton/consortia/4DN/rao2014/IMR90/4DNFIJTOIGOI.mcool'\n",
    "cooler_file = '/pollard/data/chromatin_organization/rao2014/distiller-0.3.1_hg19/results/mcools/GM12878_inSitu_MboI.hg19.mapq_30.1000.mcool'\n",
    "# fasta_file='/pollard/data/vertebrate_genomes/human/hg38/hg38/hg38.fa'\n",
    "fasta_file='/pollard/data/vertebrate_genomes/human/'+assembly+'/' +assembly+'/' +assembly+'.fa'\n"
   ]
  },
  {
   "cell_type": "code",
   "execution_count": 55,
   "metadata": {
    "scrolled": true
   },
   "outputs": [
    {
     "data": {
      "text/plain": [
       "['/resolutions/1000',\n",
       " '/resolutions/2000',\n",
       " '/resolutions/5000',\n",
       " '/resolutions/10000',\n",
       " '/resolutions/25000',\n",
       " '/resolutions/50000',\n",
       " '/resolutions/100000',\n",
       " '/resolutions/250000',\n",
       " '/resolutions/500000',\n",
       " '/resolutions/1000000']"
      ]
     },
     "execution_count": 55,
     "metadata": {},
     "output_type": "execute_result"
    }
   ],
   "source": [
    "cooler.fileops.list_coolers(cooler_file)"
   ]
  },
  {
   "cell_type": "code",
   "execution_count": 56,
   "metadata": {},
   "outputs": [],
   "source": [
    "# load cooler, obtain bin table\n",
    "resolution = 25000\n",
    "c = cooler.Cooler(cooler_file+'::resolutions/'+str(resolution))\n",
    "chromsizes = c.chromsizes      \n",
    "bins = c.bins()[:]"
   ]
  },
  {
   "cell_type": "code",
   "execution_count": 57,
   "metadata": {},
   "outputs": [],
   "source": [
    "# generate binned dataframe of GC content\n",
    "fasta_records = bioframe.load_fasta(fasta_file)\n",
    "gc_table = bioframe.genomeops.frac_gc(bins, fasta_records)"
   ]
  },
  {
   "cell_type": "code",
   "execution_count": 58,
   "metadata": {},
   "outputs": [
    {
     "data": {
      "text/plain": [
       "[('chr1', 0, 249250621),\n",
       " ('chr2', 0, 243199373),\n",
       " ('chr3', 0, 198022430),\n",
       " ('chr4', 0, 191154276),\n",
       " ('chr5', 0, 180915260),\n",
       " ('chr6', 0, 171115067),\n",
       " ('chr7', 0, 159138663),\n",
       " ('chr8', 0, 146364022),\n",
       " ('chr9', 0, 141213431),\n",
       " ('chr10', 0, 135534747),\n",
       " ('chr11', 0, 135006516),\n",
       " ('chr12', 0, 133851895),\n",
       " ('chr13', 0, 115169878),\n",
       " ('chr14', 0, 107349540),\n",
       " ('chr15', 0, 102531392),\n",
       " ('chr16', 0, 90354753),\n",
       " ('chr17', 0, 81195210),\n",
       " ('chr18', 0, 78077248),\n",
       " ('chr19', 0, 59128983),\n",
       " ('chr20', 0, 63025520),\n",
       " ('chr21', 0, 48129895),\n",
       " ('chr22', 0, 51304566)]"
      ]
     },
     "execution_count": 58,
     "metadata": {},
     "output_type": "execute_result"
    }
   ],
   "source": [
    "regions = HMMC.chrom_regions(assembly, chromsizes)\n",
    "regions"
   ]
  },
  {
   "cell_type": "code",
   "execution_count": 59,
   "metadata": {},
   "outputs": [],
   "source": [
    "# specify regions as autosomes, obtain cis eigenvectors\n",
    "cis_val, cis_eig = eigdecomp.cooler_cis_eig(\n",
    "                c, \n",
    "                gc_table,\n",
    "                regions,\n",
    "                n_eigs=3, \n",
    "                balance=True,\n",
    "                ignore_diags = 2, clip_percentile=99)\n",
    "cis_eig = cis_eig.iloc[ np.array([i.isdigit() for i in cis_eig.chrom.str.replace('chr','').values])]"
   ]
  },
  {
   "cell_type": "code",
   "execution_count": 60,
   "metadata": {},
   "outputs": [],
   "source": [
    "def get_bics(build_model, get_bic, min_model, max_model, data):\n",
    "    models = [build_model(data, n_components, constrain_transmat=False) for n_components in range(min_model, max_model + 1)]\n",
    "    bics = [get_bic(model, data) for model in models]\n",
    "    return bics, models"
   ]
  },
  {
   "cell_type": "code",
   "execution_count": 61,
   "metadata": {},
   "outputs": [
    {
     "data": {
      "text/plain": [
       "<module 'HMMC.HMMC' from '/pollard/home/lchumpitaz/Hi-C/testing/HMMC/HMMC.py'>"
      ]
     },
     "execution_count": 61,
     "metadata": {},
     "output_type": "execute_result"
    }
   ],
   "source": [
    "import importlib\n",
    "importlib.reload(HMMC)\n",
    "importlib.reload(HMMC.HMMC)\n"
   ]
  },
  {
   "cell_type": "code",
   "execution_count": 62,
   "metadata": {
    "scrolled": false
   },
   "outputs": [],
   "source": [
    "# min_model, max_model = 1, 10\n",
    "\n",
    "# hmmlearn_bics = []\n",
    "# chrom_models = []\n",
    "# for chrom in cis_eig.chrom.unique():\n",
    "#     mask = (~cis_eig['E1'].isna()) & (cis_eig.chrom == chrom)\n",
    "#     print(chrom)\n",
    "#     data = cis_eig[mask].E1.values.reshape(-1, 1)\n",
    "#     print(len(data))\n",
    "#     bics, models= get_bics(HMMC.HMMC._build_model, HMMC.HMMC._bic_hmm, min_model, max_model, data)\n",
    "#     print(bics)\n",
    "#     chrom_models.append(models)\n",
    "#     hmmlearn_bics.append(bics)"
   ]
  },
  {
   "cell_type": "code",
   "execution_count": 63,
   "metadata": {},
   "outputs": [],
   "source": [
    "# hmmlearn_bics = np.array(hmmlearn_bics)"
   ]
  },
  {
   "cell_type": "code",
   "execution_count": 64,
   "metadata": {
    "scrolled": true
   },
   "outputs": [],
   "source": [
    "# plt.plot(np.arange(min_model, max_model+1), hmmlearn_bics.T);\n",
    "# plt.xticks(np.arange(min_model, max_model+1));\n",
    "# plt.xlim([min_model - 0.1, max_model + 0.1])"
   ]
  },
  {
   "cell_type": "code",
   "execution_count": 65,
   "metadata": {},
   "outputs": [],
   "source": [
    "# plt.plot(np.arange(min_model, max_model+1), hmmlearn_bics.mean(axis=0));\n",
    "# plt.xticks(np.arange(min_model, max_model+1));\n",
    "# plt.xlim([min_model - 0.1, max_model + 0.1])"
   ]
  },
  {
   "cell_type": "code",
   "execution_count": 66,
   "metadata": {},
   "outputs": [],
   "source": [
    "# plt.plot(np.arange(min_model+1, max_model+1)-0.5, np.diff(hmmlearn_bics.mean(axis=0)));\n",
    "# plt.xticks(np.arange(min_model, max_model+1));\n",
    "# plt.xlim([min_model - 0.1, max_model + 0.1])"
   ]
  },
  {
   "cell_type": "code",
   "execution_count": 67,
   "metadata": {
    "scrolled": false
   },
   "outputs": [
    {
     "name": "stdout",
     "output_type": "stream",
     "text": [
      "generating segmentation for binary\n",
      "generating segmentation for HMM2\n",
      "generating segmentation for HMM3\n",
      "generating segmentation for HMM3P\n"
     ]
    }
   ],
   "source": [
    "# get segmentation using HMMC\n",
    "hmm_track, BIC_dict = HMMC.get_segmentation(cis_eig, \n",
    "                                  state_list= [\"binary\", \"HMM2\",\"HMM3\", \"HMM3P\"], \n",
    "                                  regions=regions, return_BIC_dict=True, verbose=True)"
   ]
  },
  {
   "cell_type": "code",
   "execution_count": 68,
   "metadata": {},
   "outputs": [],
   "source": [
    "bics = [(key, vals) for key, vals in BIC_dict.items()]\n",
    "bics.sort(key=lambda x: x[0])\n",
    "bics_vals = np.array([vals for key, vals in bics])"
   ]
  },
  {
   "cell_type": "code",
   "execution_count": 69,
   "metadata": {},
   "outputs": [
    {
     "data": {
      "text/plain": [
       "array([ 36183.81581719, -29123.21527624])"
      ]
     },
     "execution_count": 69,
     "metadata": {},
     "output_type": "execute_result"
    }
   ],
   "source": [
    "bics_vals"
   ]
  },
  {
   "cell_type": "code",
   "execution_count": 70,
   "metadata": {},
   "outputs": [
    {
     "data": {
      "text/plain": [
       "[<matplotlib.lines.Line2D at 0x7f8dfe57a2d0>]"
      ]
     },
     "execution_count": 70,
     "metadata": {},
     "output_type": "execute_result"
    },
    {
     "data": {
      "image/png": "[encoded data removed]",
      "text/plain": [
       "<Figure size 432x288 with 1 Axes>"
      ]
     },
     "metadata": {
      "needs_background": "light"
     },
     "output_type": "display_data"
    }
   ],
   "source": [
    "plt.plot(np.arange(2, len(bics_vals)+2), bics_vals)"
   ]
  },
  {
   "cell_type": "code",
   "execution_count": 71,
   "metadata": {},
   "outputs": [],
   "source": [
    "# x = np.arange(2.5, 9.5, 1)\n",
    "# plt.plot(x, np.diff(bics_vals))\n",
    "# plt.xlim([1.5, 10])"
   ]
  },
  {
   "cell_type": "code",
   "execution_count": 72,
   "metadata": {},
   "outputs": [
    {
     "data": {
      "image/png": "[encoded data removed]",
      "text/plain": [
       "<Figure size 1008x252 with 2 Axes>"
      ]
     },
     "metadata": {
      "needs_background": "light"
     },
     "output_type": "display_data"
    }
   ],
   "source": [
    "# visualize eigenvector and HMM3P segmentation for chromosome 19\n",
    "# HMM3P_nums_to_names =  {0:'B', 1:'M_{bb}', 2:'M', 3:'M_{aa}', 4:'A'}\n",
    "# HMM2_nums_to_names  =  {0:'B', 1:'A'}\n",
    "\n",
    "fig = plt.figure(figsize=(14, 3.5))\n",
    "\n",
    "ax1 = plt.subplot(211)\n",
    "chrom = 'chr19'\n",
    "mask = (~hmm_track['E1'].isna()) & (hmm_track.chrom == chrom)\n",
    "y1 = hmm_track[mask]['E1'].values\n",
    "ax1.plot(y1)\n",
    "ax1.margins(x=0)\n",
    "ax1.set_ylabel('eigenvalue')\n",
    "plt.title(chrom)\n",
    "\n",
    "# plt.figure(figsize=(14, 1.5))\n",
    "ax2 = plt.subplot(212)\n",
    "y2 = hmm_track[mask]['HMM3P'].values \n",
    "ax2.plot(y2)\n",
    "ax2.set_ylabel('state')\n",
    "ax2.margins(x=0)"
   ]
  },
  {
   "cell_type": "code",
   "execution_count": 73,
   "metadata": {
    "scrolled": false
   },
   "outputs": [
    {
     "data": {
      "text/html": [
       "<div>\n",
       "<style scoped>\n",
       "    .dataframe tbody tr th:only-of-type {\n",
       "        vertical-align: middle;\n",
       "    }\n",
       "\n",
       "    .dataframe tbody tr th {\n",
       "        vertical-align: top;\n",
       "    }\n",
       "\n",
       "    .dataframe thead th {\n",
       "        text-align: right;\n",
       "    }\n",
       "</style>\n",
       "<table border=\"1\" class=\"dataframe\">\n",
       "  <thead>\n",
       "    <tr style=\"text-align: right;\">\n",
       "      <th></th>\n",
       "      <th>chrom</th>\n",
       "      <th>start</th>\n",
       "      <th>end</th>\n",
       "      <th>weight</th>\n",
       "      <th>GC</th>\n",
       "      <th>E1</th>\n",
       "      <th>E2</th>\n",
       "      <th>E3</th>\n",
       "      <th>binary</th>\n",
       "      <th>HMM2</th>\n",
       "      <th>HMM3</th>\n",
       "      <th>HMM3P</th>\n",
       "    </tr>\n",
       "  </thead>\n",
       "  <tbody>\n",
       "    <tr>\n",
       "      <th>0</th>\n",
       "      <td>chr1</td>\n",
       "      <td>0</td>\n",
       "      <td>25000</td>\n",
       "      <td>NaN</td>\n",
       "      <td>0.573067</td>\n",
       "      <td>NaN</td>\n",
       "      <td>NaN</td>\n",
       "      <td>NaN</td>\n",
       "      <td>NaN</td>\n",
       "      <td>NaN</td>\n",
       "      <td>NaN</td>\n",
       "      <td>NaN</td>\n",
       "    </tr>\n",
       "    <tr>\n",
       "      <th>1</th>\n",
       "      <td>chr1</td>\n",
       "      <td>25000</td>\n",
       "      <td>50000</td>\n",
       "      <td>NaN</td>\n",
       "      <td>0.430960</td>\n",
       "      <td>NaN</td>\n",
       "      <td>NaN</td>\n",
       "      <td>NaN</td>\n",
       "      <td>NaN</td>\n",
       "      <td>NaN</td>\n",
       "      <td>NaN</td>\n",
       "      <td>NaN</td>\n",
       "    </tr>\n",
       "    <tr>\n",
       "      <th>2</th>\n",
       "      <td>chr1</td>\n",
       "      <td>50000</td>\n",
       "      <td>75000</td>\n",
       "      <td>NaN</td>\n",
       "      <td>0.351400</td>\n",
       "      <td>NaN</td>\n",
       "      <td>NaN</td>\n",
       "      <td>NaN</td>\n",
       "      <td>NaN</td>\n",
       "      <td>NaN</td>\n",
       "      <td>NaN</td>\n",
       "      <td>NaN</td>\n",
       "    </tr>\n",
       "    <tr>\n",
       "      <th>3</th>\n",
       "      <td>chr1</td>\n",
       "      <td>75000</td>\n",
       "      <td>100000</td>\n",
       "      <td>NaN</td>\n",
       "      <td>0.402080</td>\n",
       "      <td>NaN</td>\n",
       "      <td>NaN</td>\n",
       "      <td>NaN</td>\n",
       "      <td>NaN</td>\n",
       "      <td>NaN</td>\n",
       "      <td>NaN</td>\n",
       "      <td>NaN</td>\n",
       "    </tr>\n",
       "    <tr>\n",
       "      <th>4</th>\n",
       "      <td>chr1</td>\n",
       "      <td>100000</td>\n",
       "      <td>125000</td>\n",
       "      <td>NaN</td>\n",
       "      <td>0.371200</td>\n",
       "      <td>NaN</td>\n",
       "      <td>NaN</td>\n",
       "      <td>NaN</td>\n",
       "      <td>NaN</td>\n",
       "      <td>NaN</td>\n",
       "      <td>NaN</td>\n",
       "      <td>NaN</td>\n",
       "    </tr>\n",
       "    <tr>\n",
       "      <th>...</th>\n",
       "      <td>...</td>\n",
       "      <td>...</td>\n",
       "      <td>...</td>\n",
       "      <td>...</td>\n",
       "      <td>...</td>\n",
       "      <td>...</td>\n",
       "      <td>...</td>\n",
       "      <td>...</td>\n",
       "      <td>...</td>\n",
       "      <td>...</td>\n",
       "      <td>...</td>\n",
       "      <td>...</td>\n",
       "    </tr>\n",
       "    <tr>\n",
       "      <th>115249</th>\n",
       "      <td>chr22</td>\n",
       "      <td>51200000</td>\n",
       "      <td>51225000</td>\n",
       "      <td>NaN</td>\n",
       "      <td>0.484840</td>\n",
       "      <td>NaN</td>\n",
       "      <td>NaN</td>\n",
       "      <td>NaN</td>\n",
       "      <td>NaN</td>\n",
       "      <td>NaN</td>\n",
       "      <td>NaN</td>\n",
       "      <td>NaN</td>\n",
       "    </tr>\n",
       "    <tr>\n",
       "      <th>115250</th>\n",
       "      <td>chr22</td>\n",
       "      <td>51225000</td>\n",
       "      <td>51250000</td>\n",
       "      <td>NaN</td>\n",
       "      <td>0.399060</td>\n",
       "      <td>NaN</td>\n",
       "      <td>NaN</td>\n",
       "      <td>NaN</td>\n",
       "      <td>NaN</td>\n",
       "      <td>NaN</td>\n",
       "      <td>NaN</td>\n",
       "      <td>NaN</td>\n",
       "    </tr>\n",
       "    <tr>\n",
       "      <th>115251</th>\n",
       "      <td>chr22</td>\n",
       "      <td>51250000</td>\n",
       "      <td>51275000</td>\n",
       "      <td>NaN</td>\n",
       "      <td>NaN</td>\n",
       "      <td>NaN</td>\n",
       "      <td>NaN</td>\n",
       "      <td>NaN</td>\n",
       "      <td>NaN</td>\n",
       "      <td>NaN</td>\n",
       "      <td>NaN</td>\n",
       "      <td>NaN</td>\n",
       "    </tr>\n",
       "    <tr>\n",
       "      <th>115252</th>\n",
       "      <td>chr22</td>\n",
       "      <td>51275000</td>\n",
       "      <td>51300000</td>\n",
       "      <td>NaN</td>\n",
       "      <td>NaN</td>\n",
       "      <td>NaN</td>\n",
       "      <td>NaN</td>\n",
       "      <td>NaN</td>\n",
       "      <td>NaN</td>\n",
       "      <td>NaN</td>\n",
       "      <td>NaN</td>\n",
       "      <td>NaN</td>\n",
       "    </tr>\n",
       "    <tr>\n",
       "      <th>115253</th>\n",
       "      <td>chr22</td>\n",
       "      <td>51300000</td>\n",
       "      <td>51304566</td>\n",
       "      <td>NaN</td>\n",
       "      <td>NaN</td>\n",
       "      <td>NaN</td>\n",
       "      <td>NaN</td>\n",
       "      <td>NaN</td>\n",
       "      <td>NaN</td>\n",
       "      <td>NaN</td>\n",
       "      <td>NaN</td>\n",
       "      <td>NaN</td>\n",
       "    </tr>\n",
       "  </tbody>\n",
       "</table>\n",
       "<p>115254 rows × 12 columns</p>\n",
       "</div>"
      ],
      "text/plain": [
       "        chrom     start       end  weight        GC  E1  E2  E3  binary  HMM2  \\\n",
       "0        chr1         0     25000     NaN  0.573067 NaN NaN NaN     NaN   NaN   \n",
       "1        chr1     25000     50000     NaN  0.430960 NaN NaN NaN     NaN   NaN   \n",
       "2        chr1     50000     75000     NaN  0.351400 NaN NaN NaN     NaN   NaN   \n",
       "3        chr1     75000    100000     NaN  0.402080 NaN NaN NaN     NaN   NaN   \n",
       "4        chr1    100000    125000     NaN  0.371200 NaN NaN NaN     NaN   NaN   \n",
       "...       ...       ...       ...     ...       ...  ..  ..  ..     ...   ...   \n",
       "115249  chr22  51200000  51225000     NaN  0.484840 NaN NaN NaN     NaN   NaN   \n",
       "115250  chr22  51225000  51250000     NaN  0.399060 NaN NaN NaN     NaN   NaN   \n",
       "115251  chr22  51250000  51275000     NaN       NaN NaN NaN NaN     NaN   NaN   \n",
       "115252  chr22  51275000  51300000     NaN       NaN NaN NaN NaN     NaN   NaN   \n",
       "115253  chr22  51300000  51304566     NaN       NaN NaN NaN NaN     NaN   NaN   \n",
       "\n",
       "        HMM3  HMM3P  \n",
       "0        NaN    NaN  \n",
       "1        NaN    NaN  \n",
       "2        NaN    NaN  \n",
       "3        NaN    NaN  \n",
       "4        NaN    NaN  \n",
       "...      ...    ...  \n",
       "115249   NaN    NaN  \n",
       "115250   NaN    NaN  \n",
       "115251   NaN    NaN  \n",
       "115252   NaN    NaN  \n",
       "115253   NaN    NaN  \n",
       "\n",
       "[115254 rows x 12 columns]"
      ]
     },
     "execution_count": 73,
     "metadata": {},
     "output_type": "execute_result"
    }
   ],
   "source": [
    "hmm_track"
   ]
  },
  {
   "cell_type": "code",
   "execution_count": 74,
   "metadata": {},
   "outputs": [
    {
     "data": {
      "text/html": [
       "<div>\n",
       "<style scoped>\n",
       "    .dataframe tbody tr th:only-of-type {\n",
       "        vertical-align: middle;\n",
       "    }\n",
       "\n",
       "    .dataframe tbody tr th {\n",
       "        vertical-align: top;\n",
       "    }\n",
       "\n",
       "    .dataframe thead th {\n",
       "        text-align: right;\n",
       "    }\n",
       "</style>\n",
       "<table border=\"1\" class=\"dataframe\">\n",
       "  <thead>\n",
       "    <tr style=\"text-align: right;\">\n",
       "      <th></th>\n",
       "      <th>chrom</th>\n",
       "      <th>start</th>\n",
       "      <th>end</th>\n",
       "      <th>name</th>\n",
       "      <th>score</th>\n",
       "      <th>strand</th>\n",
       "      <th>thickStart</th>\n",
       "      <th>thickEnd</th>\n",
       "      <th>itemRgb</th>\n",
       "    </tr>\n",
       "  </thead>\n",
       "  <tbody>\n",
       "    <tr>\n",
       "      <th>0</th>\n",
       "      <td>chr1</td>\n",
       "      <td>0</td>\n",
       "      <td>25000</td>\n",
       "      <td>N</td>\n",
       "      <td>0</td>\n",
       "      <td>-</td>\n",
       "      <td>0</td>\n",
       "      <td>25000</td>\n",
       "      <td>248,248,248</td>\n",
       "    </tr>\n",
       "    <tr>\n",
       "      <th>1</th>\n",
       "      <td>chr1</td>\n",
       "      <td>25000</td>\n",
       "      <td>50000</td>\n",
       "      <td>N</td>\n",
       "      <td>0</td>\n",
       "      <td>-</td>\n",
       "      <td>25000</td>\n",
       "      <td>50000</td>\n",
       "      <td>248,248,248</td>\n",
       "    </tr>\n",
       "    <tr>\n",
       "      <th>2</th>\n",
       "      <td>chr1</td>\n",
       "      <td>50000</td>\n",
       "      <td>75000</td>\n",
       "      <td>N</td>\n",
       "      <td>0</td>\n",
       "      <td>-</td>\n",
       "      <td>50000</td>\n",
       "      <td>75000</td>\n",
       "      <td>248,248,248</td>\n",
       "    </tr>\n",
       "    <tr>\n",
       "      <th>3</th>\n",
       "      <td>chr1</td>\n",
       "      <td>75000</td>\n",
       "      <td>100000</td>\n",
       "      <td>N</td>\n",
       "      <td>0</td>\n",
       "      <td>-</td>\n",
       "      <td>75000</td>\n",
       "      <td>100000</td>\n",
       "      <td>248,248,248</td>\n",
       "    </tr>\n",
       "    <tr>\n",
       "      <th>4</th>\n",
       "      <td>chr1</td>\n",
       "      <td>100000</td>\n",
       "      <td>125000</td>\n",
       "      <td>N</td>\n",
       "      <td>0</td>\n",
       "      <td>-</td>\n",
       "      <td>100000</td>\n",
       "      <td>125000</td>\n",
       "      <td>248,248,248</td>\n",
       "    </tr>\n",
       "    <tr>\n",
       "      <th>...</th>\n",
       "      <td>...</td>\n",
       "      <td>...</td>\n",
       "      <td>...</td>\n",
       "      <td>...</td>\n",
       "      <td>...</td>\n",
       "      <td>...</td>\n",
       "      <td>...</td>\n",
       "      <td>...</td>\n",
       "      <td>...</td>\n",
       "    </tr>\n",
       "    <tr>\n",
       "      <th>115249</th>\n",
       "      <td>chr22</td>\n",
       "      <td>51200000</td>\n",
       "      <td>51225000</td>\n",
       "      <td>N</td>\n",
       "      <td>0</td>\n",
       "      <td>-</td>\n",
       "      <td>51200000</td>\n",
       "      <td>51225000</td>\n",
       "      <td>248,248,248</td>\n",
       "    </tr>\n",
       "    <tr>\n",
       "      <th>115250</th>\n",
       "      <td>chr22</td>\n",
       "      <td>51225000</td>\n",
       "      <td>51250000</td>\n",
       "      <td>N</td>\n",
       "      <td>0</td>\n",
       "      <td>-</td>\n",
       "      <td>51225000</td>\n",
       "      <td>51250000</td>\n",
       "      <td>248,248,248</td>\n",
       "    </tr>\n",
       "    <tr>\n",
       "      <th>115251</th>\n",
       "      <td>chr22</td>\n",
       "      <td>51250000</td>\n",
       "      <td>51275000</td>\n",
       "      <td>N</td>\n",
       "      <td>0</td>\n",
       "      <td>-</td>\n",
       "      <td>51250000</td>\n",
       "      <td>51275000</td>\n",
       "      <td>248,248,248</td>\n",
       "    </tr>\n",
       "    <tr>\n",
       "      <th>115252</th>\n",
       "      <td>chr22</td>\n",
       "      <td>51275000</td>\n",
       "      <td>51300000</td>\n",
       "      <td>N</td>\n",
       "      <td>0</td>\n",
       "      <td>-</td>\n",
       "      <td>51275000</td>\n",
       "      <td>51300000</td>\n",
       "      <td>248,248,248</td>\n",
       "    </tr>\n",
       "    <tr>\n",
       "      <th>115253</th>\n",
       "      <td>chr22</td>\n",
       "      <td>51300000</td>\n",
       "      <td>51304566</td>\n",
       "      <td>N</td>\n",
       "      <td>0</td>\n",
       "      <td>-</td>\n",
       "      <td>51300000</td>\n",
       "      <td>51304566</td>\n",
       "      <td>248,248,248</td>\n",
       "    </tr>\n",
       "  </tbody>\n",
       "</table>\n",
       "<p>115254 rows × 9 columns</p>\n",
       "</div>"
      ],
      "text/plain": [
       "        chrom     start       end name  score strand  thickStart  thickEnd  \\\n",
       "0        chr1         0     25000    N      0      -           0     25000   \n",
       "1        chr1     25000     50000    N      0      -       25000     50000   \n",
       "2        chr1     50000     75000    N      0      -       50000     75000   \n",
       "3        chr1     75000    100000    N      0      -       75000    100000   \n",
       "4        chr1    100000    125000    N      0      -      100000    125000   \n",
       "...       ...       ...       ...  ...    ...    ...         ...       ...   \n",
       "115249  chr22  51200000  51225000    N      0      -    51200000  51225000   \n",
       "115250  chr22  51225000  51250000    N      0      -    51225000  51250000   \n",
       "115251  chr22  51250000  51275000    N      0      -    51250000  51275000   \n",
       "115252  chr22  51275000  51300000    N      0      -    51275000  51300000   \n",
       "115253  chr22  51300000  51304566    N      0      -    51300000  51304566   \n",
       "\n",
       "            itemRgb  \n",
       "0       248,248,248  \n",
       "1       248,248,248  \n",
       "2       248,248,248  \n",
       "3       248,248,248  \n",
       "4       248,248,248  \n",
       "...             ...  \n",
       "115249  248,248,248  \n",
       "115250  248,248,248  \n",
       "115251  248,248,248  \n",
       "115252  248,248,248  \n",
       "115253  248,248,248  \n",
       "\n",
       "[115254 rows x 9 columns]"
      ]
     },
     "execution_count": 74,
     "metadata": {},
     "output_type": "execute_result"
    }
   ],
   "source": [
    "bed_track = HMMC.track_to_bedformat(hmm_track, 'HMM3P')\n",
    "bed_track"
   ]
  },
  {
   "cell_type": "code",
   "execution_count": 75,
   "metadata": {},
   "outputs": [
    {
     "data": {
      "text/plain": [
       "<BedTool(../annotations/GM12878_hg19_25000.bed)>"
      ]
     },
     "execution_count": 75,
     "metadata": {},
     "output_type": "execute_result"
    }
   ],
   "source": [
    "hmm_track.to_csv('../annotations/GM12878_'+assembly+'_'+str(resolution)+'.tsv', sep='\\t', index=False)\n",
    "BedTool.from_dataframe(bed_track, outfile='../annotations/GM12878_'+assembly+'_'+str(resolution)+'.bed', header = False )\n",
    "# hmm_track.to_csv('../annotations/H1-hESC_hg38_50kb.tsv', sep='\\t', index=False)\n",
    "# hmm_track.to_csv('../annotations/IMR90_hg38_25kb.tsv', sep='\\t', index=False)\n",
    "# BedTool.from_dataframe(bed_track, outfile='../annotations/IMR90_hg38_25kb.bed', header = False )"
   ]
  },
  {
   "cell_type": "code",
   "execution_count": null,
   "metadata": {},
   "outputs": [],
   "source": []
  }
 ],
 "metadata": {
  "kernelspec": {
   "display_name": "Python 3",
   "language": "python",
   "name": "python3"
  },
  "language_info": {
   "codemirror_mode": {
    "name": "ipython",
    "version": 3
   },
   "file_extension": ".py",
   "mimetype": "text/x-python",
   "name": "python",
   "nbconvert_exporter": "python",
   "pygments_lexer": "ipython3",
   "version": "3.7.9"
  }
 },
 "nbformat": 4,
 "nbformat_minor": 4
}
