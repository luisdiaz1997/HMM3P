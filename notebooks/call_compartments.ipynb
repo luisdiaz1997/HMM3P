{
 "cells": [
  {
   "cell_type": "code",
   "execution_count": 1,
   "metadata": {},
   "outputs": [],
   "source": [
    "# import required modules \n",
    "import pandas as pd\n",
    "import numpy as np\n",
    "import matplotlib.pyplot as plt\n",
    "\n",
    "import cooltools\n",
    "import bioframe\n",
    "import cooler\n",
    "\n",
    "from cooltools import eigdecomp\n",
    "import HMMC\n",
    "from pybedtools import BedTool\n"
   ]
  },
  {
   "cell_type": "code",
   "execution_count": 2,
   "metadata": {},
   "outputs": [],
   "source": [
    "assembly = 'hg38'"
   ]
  },
  {
   "cell_type": "code",
   "execution_count": 3,
   "metadata": {},
   "outputs": [],
   "source": [
    "# todo: update this with storage location\n",
    "# specify cooler and fasta storage locations\n",
    "cooler_file = '/pollard/data/wynton/consortia/4DN/rao2014/GM12878/4DNFIXP4QG5B.mcool'\n",
    "# cooler_file = '/pollard/data/wynton/consortia/4DN/krietenstein2020/H1-hESC/4DNFI9GMP2J8.mcool'\n",
    "# cooler_file = '/pollard/data/wynton/consortia/4DN/rao2014/IMR90/4DNFIJTOIGOI.mcool'\n",
    "# cooler_file = '/pollard/data/chromatin_organization/rao2014/distiller-0.3.1_hg19/results/mcools/IMR90_inSitu_MboI.hg19.mapq_30.1000.mcool'\n",
    "# fasta_file='/pollard/data/vertebrate_genomes/human/hg38/hg38/hg38.fa'\n",
    "fasta_file='/pollard/data/vertebrate_genomes/human/'+assembly+'/' +assembly+'/' +assembly+'.fa'\n"
   ]
  },
  {
   "cell_type": "code",
   "execution_count": 4,
   "metadata": {
    "scrolled": true
   },
   "outputs": [
    {
     "data": {
      "text/plain": [
       "['/resolutions/1000',\n",
       " '/resolutions/2000',\n",
       " '/resolutions/5000',\n",
       " '/resolutions/10000',\n",
       " '/resolutions/25000',\n",
       " '/resolutions/50000',\n",
       " '/resolutions/100000',\n",
       " '/resolutions/250000',\n",
       " '/resolutions/500000',\n",
       " '/resolutions/1000000',\n",
       " '/resolutions/2500000',\n",
       " '/resolutions/5000000',\n",
       " '/resolutions/10000000']"
      ]
     },
     "execution_count": 4,
     "metadata": {},
     "output_type": "execute_result"
    }
   ],
   "source": [
    "cooler.fileops.list_coolers(cooler_file)"
   ]
  },
  {
   "cell_type": "code",
   "execution_count": 5,
   "metadata": {},
   "outputs": [],
   "source": [
    "# load cooler, obtain bin table\n",
    "resolution = 25000\n",
    "c = cooler.Cooler(cooler_file+'::resolutions/'+str(resolution))\n",
    "chromsizes = c.chromsizes      \n",
    "bins = c.bins()[:]"
   ]
  },
  {
   "cell_type": "code",
   "execution_count": 6,
   "metadata": {},
   "outputs": [],
   "source": [
    "# generate binned dataframe of GC content\n",
    "fasta_records = bioframe.load_fasta(fasta_file)\n",
    "gc_table = bioframe.frac_gc(bins, fasta_records)"
   ]
  },
  {
   "cell_type": "code",
   "execution_count": 7,
   "metadata": {
    "scrolled": true
   },
   "outputs": [
    {
     "data": {
      "text/plain": [
       "[('chr1', 0, 248956422),\n",
       " ('chr2', 0, 242193529),\n",
       " ('chr3', 0, 198295559),\n",
       " ('chr4', 0, 190214555),\n",
       " ('chr5', 0, 181538259),\n",
       " ('chr6', 0, 170805979),\n",
       " ('chr7', 0, 159345973),\n",
       " ('chr8', 0, 145138636),\n",
       " ('chr9', 0, 138394717),\n",
       " ('chr10', 0, 133797422),\n",
       " ('chr11', 0, 135086622),\n",
       " ('chr12', 0, 133275309),\n",
       " ('chr13', 0, 114364328),\n",
       " ('chr14', 0, 107043718),\n",
       " ('chr15', 0, 101991189),\n",
       " ('chr16', 0, 90338345),\n",
       " ('chr17', 0, 83257441),\n",
       " ('chr18', 0, 80373285),\n",
       " ('chr19', 0, 58617616),\n",
       " ('chr20', 0, 64444167),\n",
       " ('chr21', 0, 46709983),\n",
       " ('chr22', 0, 50818468)]"
      ]
     },
     "execution_count": 7,
     "metadata": {},
     "output_type": "execute_result"
    }
   ],
   "source": [
    "regions = HMMC.chrom_regions(assembly, chromsizes)\n",
    "regions"
   ]
  },
  {
   "cell_type": "code",
   "execution_count": 8,
   "metadata": {},
   "outputs": [
    {
     "data": {
      "text/plain": [
       "<module 'cooltools.eigdecomp' from '/pollard/home/lchumpitaz/gitclones/cooltools/cooltools/eigdecomp.py'>"
      ]
     },
     "execution_count": 8,
     "metadata": {},
     "output_type": "execute_result"
    }
   ],
   "source": [
    "import importlib\n",
    "importlib.reload(cooltools)\n",
    "importlib.reload(eigdecomp)\n",
    "importlib.reload(cooltools.eigdecomp)"
   ]
  },
  {
   "cell_type": "code",
   "execution_count": 9,
   "metadata": {},
   "outputs": [
    {
     "name": "stdout",
     "output_type": "stream",
     "text": [
      "now doing region: ['chr1' 0 248956422]\n",
      "now doing region: ['chr2' 0 242193529]\n",
      "now doing region: ['chr3' 0 198295559]\n",
      "now doing region: ['chr4' 0 190214555]\n",
      "now doing region: ['chr5' 0 181538259]\n",
      "now doing region: ['chr6' 0 170805979]\n",
      "now doing region: ['chr7' 0 159345973]\n",
      "now doing region: ['chr8' 0 145138636]\n",
      "now doing region: ['chr9' 0 138394717]\n",
      "now doing region: ['chr10' 0 133797422]\n",
      "now doing region: ['chr11' 0 135086622]\n",
      "now doing region: ['chr12' 0 133275309]\n",
      "now doing region: ['chr13' 0 114364328]\n",
      "now doing region: ['chr14' 0 107043718]\n",
      "now doing region: ['chr15' 0 101991189]\n",
      "now doing region: ['chr16' 0 90338345]\n",
      "now doing region: ['chr17' 0 83257441]\n",
      "now doing region: ['chr18' 0 80373285]\n",
      "now doing region: ['chr19' 0 58617616]\n",
      "now doing region: ['chr20' 0 64444167]\n",
      "now doing region: ['chr21' 0 46709983]\n",
      "now doing region: ['chr22' 0 50818468]\n"
     ]
    }
   ],
   "source": [
    "# specify regions as autosomes, obtain cis eigenvectors\n",
    "smooth = False\n",
    "OE_log = False\n",
    "cis_val, cis_eig = eigdecomp.cooler_cis_eig(\n",
    "                c, \n",
    "                gc_table,\n",
    "                regions,\n",
    "                n_eigs=3, \n",
    "                balance=True,\n",
    "                ignore_diags = 2, clip_percentile=99, smooth=smooth, OE_log=OE_log)\n",
    "cis_eig = cis_eig.iloc[ np.array([i.isdigit() for i in cis_eig.chrom.str.replace('chr','').values])]"
   ]
  },
  {
   "cell_type": "code",
   "execution_count": 10,
   "metadata": {},
   "outputs": [],
   "source": [
    "def get_bics(build_model, get_bic, min_model, max_model, data):\n",
    "    models = [build_model(data, n_components, constrain_transmat=False) for n_components in range(min_model, max_model + 1)]\n",
    "    bics = [get_bic(model, data) for model in models]\n",
    "    return bics, models"
   ]
  },
  {
   "cell_type": "code",
   "execution_count": 11,
   "metadata": {},
   "outputs": [
    {
     "data": {
      "text/plain": [
       "<module 'HMMC.plotting_tools' from '/pollard/home/lchumpitaz/Hi-C/testing/HMMC/plotting_tools.py'>"
      ]
     },
     "execution_count": 11,
     "metadata": {},
     "output_type": "execute_result"
    }
   ],
   "source": [
    "import importlib\n",
    "importlib.reload(HMMC)\n",
    "importlib.reload(HMMC.HMMC)\n",
    "importlib.reload(HMMC.plotting_tools)\n"
   ]
  },
  {
   "cell_type": "code",
   "execution_count": 17,
   "metadata": {
    "scrolled": false
   },
   "outputs": [
    {
     "name": "stdout",
     "output_type": "stream",
     "text": [
      "generating segmentation for binary\n",
      "generating segmentation for HMM2\n",
      "generating segmentation for HMM3\n",
      "generating segmentation for HMM3P\n",
      "generating segmentation for HMM4\n",
      "generating segmentation for HMM5\n"
     ]
    }
   ],
   "source": [
    "# get segmentation using HMMC\n",
    "hmm_track, BIC_dict = HMMC.get_segmentation(cis_eig, \n",
    "                                  state_list= [\"binary\", \"HMM2\",\"HMM3\", \"HMM3P\", \"HMM4\", \"HMM5\"], \n",
    "                                  regions=regions, return_BIC_dict=True, verbose=True)"
   ]
  },
  {
   "cell_type": "code",
   "execution_count": 18,
   "metadata": {},
   "outputs": [],
   "source": [
    "bics = [(key, vals) for key, vals in BIC_dict.items()]\n",
    "bics.sort(key=lambda x: x[0])\n",
    "bics_vals = np.array([vals for key, vals in bics])"
   ]
  },
  {
   "cell_type": "code",
   "execution_count": 19,
   "metadata": {},
   "outputs": [
    {
     "data": {
      "text/plain": [
       "array([ 37414.64197475, -29283.79594918, -71460.75516692, -99713.66290781])"
      ]
     },
     "execution_count": 19,
     "metadata": {},
     "output_type": "execute_result"
    }
   ],
   "source": [
    "bics_vals"
   ]
  },
  {
   "cell_type": "code",
   "execution_count": 20,
   "metadata": {},
   "outputs": [
    {
     "data": {
      "text/plain": [
       "[<matplotlib.lines.Line2D at 0x7f7900bf21d0>]"
      ]
     },
     "execution_count": 20,
     "metadata": {},
     "output_type": "execute_result"
    },
    {
     "data": {
      "image/png": "[encoded data removed]",
      "text/plain": [
       "<Figure size 432x288 with 1 Axes>"
      ]
     },
     "metadata": {
      "needs_background": "light"
     },
     "output_type": "display_data"
    }
   ],
   "source": [
    "plt.plot(np.arange(2, len(bics_vals)+2), bics_vals)"
   ]
  },
  {
   "cell_type": "code",
   "execution_count": 21,
   "metadata": {},
   "outputs": [
    {
     "data": {
      "image/png": "[encoded data removed]",
      "text/plain": [
       "<Figure size 1008x252 with 2 Axes>"
      ]
     },
     "metadata": {
      "needs_background": "light"
     },
     "output_type": "display_data"
    }
   ],
   "source": [
    "# visualize eigenvector and HMM3P segmentation for chromosome 19\n",
    "# HMM3P_nums_to_names =  {0:'B', 1:'M_{bb}', 2:'M', 3:'M_{aa}', 4:'A'}\n",
    "# HMM2_nums_to_names  =  {0:'B', 1:'A'}\n",
    "\n",
    "fig = plt.figure(figsize=(14, 3.5))\n",
    "\n",
    "ax1 = plt.subplot(211)\n",
    "chrom = 'chr19'\n",
    "mask = (~hmm_track['E1'].isna()) & (hmm_track.chrom == chrom)\n",
    "y1 = hmm_track[mask]['E1'].values\n",
    "ax1.plot(y1)\n",
    "ax1.margins(x=0)\n",
    "ax1.set_ylabel('eigenvalue')\n",
    "plt.title(chrom)\n",
    "\n",
    "# plt.figure(figsize=(14, 1.5))\n",
    "ax2 = plt.subplot(212)\n",
    "y2 = hmm_track[mask]['HMM3'].values \n",
    "ax2.plot(y2)\n",
    "ax2.set_ylabel('state')\n",
    "ax2.margins(x=0)"
   ]
  },
  {
   "cell_type": "code",
   "execution_count": 22,
   "metadata": {
    "scrolled": false
   },
   "outputs": [
    {
     "data": {
      "text/html": [
       "<div>\n",
       "<style scoped>\n",
       "    .dataframe tbody tr th:only-of-type {\n",
       "        vertical-align: middle;\n",
       "    }\n",
       "\n",
       "    .dataframe tbody tr th {\n",
       "        vertical-align: top;\n",
       "    }\n",
       "\n",
       "    .dataframe thead th {\n",
       "        text-align: right;\n",
       "    }\n",
       "</style>\n",
       "<table border=\"1\" class=\"dataframe\">\n",
       "  <thead>\n",
       "    <tr style=\"text-align: right;\">\n",
       "      <th></th>\n",
       "      <th>chrom</th>\n",
       "      <th>start</th>\n",
       "      <th>end</th>\n",
       "      <th>KR</th>\n",
       "      <th>VC</th>\n",
       "      <th>VC_SQRT</th>\n",
       "      <th>weight</th>\n",
       "      <th>GC</th>\n",
       "      <th>E1</th>\n",
       "      <th>E2</th>\n",
       "      <th>E3</th>\n",
       "      <th>binary</th>\n",
       "      <th>HMM2</th>\n",
       "      <th>HMM3</th>\n",
       "      <th>HMM3P</th>\n",
       "      <th>HMM4</th>\n",
       "      <th>HMM5</th>\n",
       "    </tr>\n",
       "  </thead>\n",
       "  <tbody>\n",
       "    <tr>\n",
       "      <th>0</th>\n",
       "      <td>chr1</td>\n",
       "      <td>0</td>\n",
       "      <td>25000</td>\n",
       "      <td>NaN</td>\n",
       "      <td>0.002548</td>\n",
       "      <td>0.034406</td>\n",
       "      <td>NaN</td>\n",
       "      <td>0.573067</td>\n",
       "      <td>NaN</td>\n",
       "      <td>NaN</td>\n",
       "      <td>NaN</td>\n",
       "      <td>NaN</td>\n",
       "      <td>NaN</td>\n",
       "      <td>NaN</td>\n",
       "      <td>NaN</td>\n",
       "      <td>NaN</td>\n",
       "      <td>NaN</td>\n",
       "    </tr>\n",
       "    <tr>\n",
       "      <th>1</th>\n",
       "      <td>chr1</td>\n",
       "      <td>25000</td>\n",
       "      <td>50000</td>\n",
       "      <td>NaN</td>\n",
       "      <td>0.001826</td>\n",
       "      <td>0.029127</td>\n",
       "      <td>NaN</td>\n",
       "      <td>0.430960</td>\n",
       "      <td>NaN</td>\n",
       "      <td>NaN</td>\n",
       "      <td>NaN</td>\n",
       "      <td>NaN</td>\n",
       "      <td>NaN</td>\n",
       "      <td>NaN</td>\n",
       "      <td>NaN</td>\n",
       "      <td>NaN</td>\n",
       "      <td>NaN</td>\n",
       "    </tr>\n",
       "    <tr>\n",
       "      <th>2</th>\n",
       "      <td>chr1</td>\n",
       "      <td>50000</td>\n",
       "      <td>75000</td>\n",
       "      <td>NaN</td>\n",
       "      <td>0.019703</td>\n",
       "      <td>0.095678</td>\n",
       "      <td>NaN</td>\n",
       "      <td>0.351400</td>\n",
       "      <td>NaN</td>\n",
       "      <td>NaN</td>\n",
       "      <td>NaN</td>\n",
       "      <td>NaN</td>\n",
       "      <td>NaN</td>\n",
       "      <td>NaN</td>\n",
       "      <td>NaN</td>\n",
       "      <td>NaN</td>\n",
       "      <td>NaN</td>\n",
       "    </tr>\n",
       "    <tr>\n",
       "      <th>3</th>\n",
       "      <td>chr1</td>\n",
       "      <td>75000</td>\n",
       "      <td>100000</td>\n",
       "      <td>NaN</td>\n",
       "      <td>0.004713</td>\n",
       "      <td>0.046797</td>\n",
       "      <td>NaN</td>\n",
       "      <td>0.402080</td>\n",
       "      <td>NaN</td>\n",
       "      <td>NaN</td>\n",
       "      <td>NaN</td>\n",
       "      <td>NaN</td>\n",
       "      <td>NaN</td>\n",
       "      <td>NaN</td>\n",
       "      <td>NaN</td>\n",
       "      <td>NaN</td>\n",
       "      <td>NaN</td>\n",
       "    </tr>\n",
       "    <tr>\n",
       "      <th>4</th>\n",
       "      <td>chr1</td>\n",
       "      <td>100000</td>\n",
       "      <td>125000</td>\n",
       "      <td>NaN</td>\n",
       "      <td>0.019023</td>\n",
       "      <td>0.094014</td>\n",
       "      <td>NaN</td>\n",
       "      <td>0.371200</td>\n",
       "      <td>NaN</td>\n",
       "      <td>NaN</td>\n",
       "      <td>NaN</td>\n",
       "      <td>NaN</td>\n",
       "      <td>NaN</td>\n",
       "      <td>NaN</td>\n",
       "      <td>NaN</td>\n",
       "      <td>NaN</td>\n",
       "      <td>NaN</td>\n",
       "    </tr>\n",
       "    <tr>\n",
       "      <th>...</th>\n",
       "      <td>...</td>\n",
       "      <td>...</td>\n",
       "      <td>...</td>\n",
       "      <td>...</td>\n",
       "      <td>...</td>\n",
       "      <td>...</td>\n",
       "      <td>...</td>\n",
       "      <td>...</td>\n",
       "      <td>...</td>\n",
       "      <td>...</td>\n",
       "      <td>...</td>\n",
       "      <td>...</td>\n",
       "      <td>...</td>\n",
       "      <td>...</td>\n",
       "      <td>...</td>\n",
       "      <td>...</td>\n",
       "      <td>...</td>\n",
       "    </tr>\n",
       "    <tr>\n",
       "      <th>115004</th>\n",
       "      <td>chr22</td>\n",
       "      <td>50700000</td>\n",
       "      <td>50725000</td>\n",
       "      <td>0.919536</td>\n",
       "      <td>1.621853</td>\n",
       "      <td>0.902310</td>\n",
       "      <td>0.003883</td>\n",
       "      <td>0.582120</td>\n",
       "      <td>-0.273457</td>\n",
       "      <td>0.576923</td>\n",
       "      <td>0.259086</td>\n",
       "      <td>0.0</td>\n",
       "      <td>0.0</td>\n",
       "      <td>1.0</td>\n",
       "      <td>2.0</td>\n",
       "      <td>2.0</td>\n",
       "      <td>2.0</td>\n",
       "    </tr>\n",
       "    <tr>\n",
       "      <th>115005</th>\n",
       "      <td>chr22</td>\n",
       "      <td>50725000</td>\n",
       "      <td>50750000</td>\n",
       "      <td>0.934506</td>\n",
       "      <td>1.581227</td>\n",
       "      <td>0.890937</td>\n",
       "      <td>0.003675</td>\n",
       "      <td>0.550640</td>\n",
       "      <td>-0.295694</td>\n",
       "      <td>0.546716</td>\n",
       "      <td>0.406209</td>\n",
       "      <td>0.0</td>\n",
       "      <td>0.0</td>\n",
       "      <td>1.0</td>\n",
       "      <td>2.0</td>\n",
       "      <td>2.0</td>\n",
       "      <td>2.0</td>\n",
       "    </tr>\n",
       "    <tr>\n",
       "      <th>115006</th>\n",
       "      <td>chr22</td>\n",
       "      <td>50750000</td>\n",
       "      <td>50775000</td>\n",
       "      <td>0.501871</td>\n",
       "      <td>0.752977</td>\n",
       "      <td>0.614810</td>\n",
       "      <td>0.006504</td>\n",
       "      <td>0.438000</td>\n",
       "      <td>-0.140475</td>\n",
       "      <td>0.489133</td>\n",
       "      <td>0.184162</td>\n",
       "      <td>0.0</td>\n",
       "      <td>0.0</td>\n",
       "      <td>1.0</td>\n",
       "      <td>2.0</td>\n",
       "      <td>2.0</td>\n",
       "      <td>2.0</td>\n",
       "    </tr>\n",
       "    <tr>\n",
       "      <th>115007</th>\n",
       "      <td>chr22</td>\n",
       "      <td>50775000</td>\n",
       "      <td>50800000</td>\n",
       "      <td>0.347564</td>\n",
       "      <td>0.453748</td>\n",
       "      <td>0.477263</td>\n",
       "      <td>0.009642</td>\n",
       "      <td>0.445800</td>\n",
       "      <td>-0.068095</td>\n",
       "      <td>0.510889</td>\n",
       "      <td>0.228893</td>\n",
       "      <td>0.0</td>\n",
       "      <td>0.0</td>\n",
       "      <td>1.0</td>\n",
       "      <td>2.0</td>\n",
       "      <td>2.0</td>\n",
       "      <td>2.0</td>\n",
       "    </tr>\n",
       "    <tr>\n",
       "      <th>115008</th>\n",
       "      <td>chr22</td>\n",
       "      <td>50800000</td>\n",
       "      <td>50818468</td>\n",
       "      <td>0.015555</td>\n",
       "      <td>0.016448</td>\n",
       "      <td>0.090866</td>\n",
       "      <td>NaN</td>\n",
       "      <td>0.457723</td>\n",
       "      <td>NaN</td>\n",
       "      <td>NaN</td>\n",
       "      <td>NaN</td>\n",
       "      <td>NaN</td>\n",
       "      <td>NaN</td>\n",
       "      <td>NaN</td>\n",
       "      <td>NaN</td>\n",
       "      <td>NaN</td>\n",
       "      <td>NaN</td>\n",
       "    </tr>\n",
       "  </tbody>\n",
       "</table>\n",
       "<p>115009 rows × 17 columns</p>\n",
       "</div>"
      ],
      "text/plain": [
       "        chrom     start       end        KR        VC   VC_SQRT    weight  \\\n",
       "0        chr1         0     25000       NaN  0.002548  0.034406       NaN   \n",
       "1        chr1     25000     50000       NaN  0.001826  0.029127       NaN   \n",
       "2        chr1     50000     75000       NaN  0.019703  0.095678       NaN   \n",
       "3        chr1     75000    100000       NaN  0.004713  0.046797       NaN   \n",
       "4        chr1    100000    125000       NaN  0.019023  0.094014       NaN   \n",
       "...       ...       ...       ...       ...       ...       ...       ...   \n",
       "115004  chr22  50700000  50725000  0.919536  1.621853  0.902310  0.003883   \n",
       "115005  chr22  50725000  50750000  0.934506  1.581227  0.890937  0.003675   \n",
       "115006  chr22  50750000  50775000  0.501871  0.752977  0.614810  0.006504   \n",
       "115007  chr22  50775000  50800000  0.347564  0.453748  0.477263  0.009642   \n",
       "115008  chr22  50800000  50818468  0.015555  0.016448  0.090866       NaN   \n",
       "\n",
       "              GC        E1        E2        E3  binary  HMM2  HMM3  HMM3P  \\\n",
       "0       0.573067       NaN       NaN       NaN     NaN   NaN   NaN    NaN   \n",
       "1       0.430960       NaN       NaN       NaN     NaN   NaN   NaN    NaN   \n",
       "2       0.351400       NaN       NaN       NaN     NaN   NaN   NaN    NaN   \n",
       "3       0.402080       NaN       NaN       NaN     NaN   NaN   NaN    NaN   \n",
       "4       0.371200       NaN       NaN       NaN     NaN   NaN   NaN    NaN   \n",
       "...          ...       ...       ...       ...     ...   ...   ...    ...   \n",
       "115004  0.582120 -0.273457  0.576923  0.259086     0.0   0.0   1.0    2.0   \n",
       "115005  0.550640 -0.295694  0.546716  0.406209     0.0   0.0   1.0    2.0   \n",
       "115006  0.438000 -0.140475  0.489133  0.184162     0.0   0.0   1.0    2.0   \n",
       "115007  0.445800 -0.068095  0.510889  0.228893     0.0   0.0   1.0    2.0   \n",
       "115008  0.457723       NaN       NaN       NaN     NaN   NaN   NaN    NaN   \n",
       "\n",
       "        HMM4  HMM5  \n",
       "0        NaN   NaN  \n",
       "1        NaN   NaN  \n",
       "2        NaN   NaN  \n",
       "3        NaN   NaN  \n",
       "4        NaN   NaN  \n",
       "...      ...   ...  \n",
       "115004   2.0   2.0  \n",
       "115005   2.0   2.0  \n",
       "115006   2.0   2.0  \n",
       "115007   2.0   2.0  \n",
       "115008   NaN   NaN  \n",
       "\n",
       "[115009 rows x 17 columns]"
      ]
     },
     "execution_count": 22,
     "metadata": {},
     "output_type": "execute_result"
    }
   ],
   "source": [
    "hmm_track"
   ]
  },
  {
   "cell_type": "code",
   "execution_count": 23,
   "metadata": {},
   "outputs": [
    {
     "data": {
      "text/html": [
       "<div>\n",
       "<style scoped>\n",
       "    .dataframe tbody tr th:only-of-type {\n",
       "        vertical-align: middle;\n",
       "    }\n",
       "\n",
       "    .dataframe tbody tr th {\n",
       "        vertical-align: top;\n",
       "    }\n",
       "\n",
       "    .dataframe thead th {\n",
       "        text-align: right;\n",
       "    }\n",
       "</style>\n",
       "<table border=\"1\" class=\"dataframe\">\n",
       "  <thead>\n",
       "    <tr style=\"text-align: right;\">\n",
       "      <th></th>\n",
       "      <th>chrom</th>\n",
       "      <th>start</th>\n",
       "      <th>end</th>\n",
       "      <th>name</th>\n",
       "      <th>score</th>\n",
       "      <th>strand</th>\n",
       "      <th>thickStart</th>\n",
       "      <th>thickEnd</th>\n",
       "      <th>rgb</th>\n",
       "    </tr>\n",
       "  </thead>\n",
       "  <tbody>\n",
       "    <tr>\n",
       "      <th>0</th>\n",
       "      <td>chr1</td>\n",
       "      <td>0</td>\n",
       "      <td>25000</td>\n",
       "      <td>N</td>\n",
       "      <td>0</td>\n",
       "      <td>-</td>\n",
       "      <td>0</td>\n",
       "      <td>25000</td>\n",
       "      <td>248,248,248</td>\n",
       "    </tr>\n",
       "    <tr>\n",
       "      <th>1</th>\n",
       "      <td>chr1</td>\n",
       "      <td>25000</td>\n",
       "      <td>50000</td>\n",
       "      <td>N</td>\n",
       "      <td>0</td>\n",
       "      <td>-</td>\n",
       "      <td>25000</td>\n",
       "      <td>50000</td>\n",
       "      <td>248,248,248</td>\n",
       "    </tr>\n",
       "    <tr>\n",
       "      <th>2</th>\n",
       "      <td>chr1</td>\n",
       "      <td>50000</td>\n",
       "      <td>75000</td>\n",
       "      <td>N</td>\n",
       "      <td>0</td>\n",
       "      <td>-</td>\n",
       "      <td>50000</td>\n",
       "      <td>75000</td>\n",
       "      <td>248,248,248</td>\n",
       "    </tr>\n",
       "    <tr>\n",
       "      <th>3</th>\n",
       "      <td>chr1</td>\n",
       "      <td>75000</td>\n",
       "      <td>100000</td>\n",
       "      <td>N</td>\n",
       "      <td>0</td>\n",
       "      <td>-</td>\n",
       "      <td>75000</td>\n",
       "      <td>100000</td>\n",
       "      <td>248,248,248</td>\n",
       "    </tr>\n",
       "    <tr>\n",
       "      <th>4</th>\n",
       "      <td>chr1</td>\n",
       "      <td>100000</td>\n",
       "      <td>125000</td>\n",
       "      <td>N</td>\n",
       "      <td>0</td>\n",
       "      <td>-</td>\n",
       "      <td>100000</td>\n",
       "      <td>125000</td>\n",
       "      <td>248,248,248</td>\n",
       "    </tr>\n",
       "  </tbody>\n",
       "</table>\n",
       "</div>"
      ],
      "text/plain": [
       "  chrom   start     end name  score strand  thickStart  thickEnd          rgb\n",
       "0  chr1       0   25000    N      0      -           0     25000  248,248,248\n",
       "1  chr1   25000   50000    N      0      -       25000     50000  248,248,248\n",
       "2  chr1   50000   75000    N      0      -       50000     75000  248,248,248\n",
       "3  chr1   75000  100000    N      0      -       75000    100000  248,248,248\n",
       "4  chr1  100000  125000    N      0      -      100000    125000  248,248,248"
      ]
     },
     "execution_count": 23,
     "metadata": {},
     "output_type": "execute_result"
    }
   ],
   "source": [
    "segmentation = 'HMM3P'\n",
    "bed_track = HMMC.track_to_bed(hmm_track, segmentation)\n",
    "bed_track.head()                                                                                                                                                                                                                          "
   ]
  },
  {
   "cell_type": "code",
   "execution_count": 24,
   "metadata": {},
   "outputs": [
    {
     "data": {
      "text/plain": [
       "<BedTool(../annotations/GM12878_hg38_HMM3P_25000.bed)>"
      ]
     },
     "execution_count": 24,
     "metadata": {},
     "output_type": "execute_result"
    }
   ],
   "source": [
    "hmm_track.to_csv('../annotations/GM12878_'+assembly+'_'+segmentation+'_'+str(resolution)+'.tsv', sep='\\t', index=False)\n",
    "BedTool.from_dataframe(bed_track, outfile='../annotations/GM12878_'+assembly+'_'+segmentation+'_'+str(resolution)+'.bed', header = False )"
   ]
  },
  {
   "cell_type": "code",
   "execution_count": null,
   "metadata": {},
   "outputs": [],
   "source": []
  }
 ],
 "metadata": {
  "kernelspec": {
   "display_name": "Python 3",
   "language": "python",
   "name": "python3"
  },
  "language_info": {
   "codemirror_mode": {
    "name": "ipython",
    "version": 3
   },
   "file_extension": ".py",
   "mimetype": "text/x-python",
   "name": "python",
   "nbconvert_exporter": "python",
   "pygments_lexer": "ipython3",
   "version": "3.7.9"
  }
 },
 "nbformat": 4,
 "nbformat_minor": 4
}
